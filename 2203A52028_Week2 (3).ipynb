{
  "nbformat": 4,
  "nbformat_minor": 0,
  "metadata": {
    "colab": {
      "provenance": []
    },
    "kernelspec": {
      "name": "python3",
      "display_name": "Python 3"
    },
    "language_info": {
      "name": "python"
    }
  },
  "cells": [
    {
      "cell_type": "markdown",
      "source": [
        "# **Breadth first search**"
      ],
      "metadata": {
        "id": "AQv4Bkq7bNFg"
      }
    },
    {
      "cell_type": "code",
      "source": [
        "graph = {\n",
        "  '0':['1','3'],\n",
        "  '1':['2'],\n",
        "  '2':['4','5','0'],\n",
        "  '3':['5'],\n",
        "  '4':[],\n",
        "  '5':[]\n",
        "}\n",
        "visited=[]\n",
        "queue=[]\n",
        "def bfs(visited, graph, node):\n",
        "  visited.append(node)\n",
        "  queue.append(node)\n",
        "  while queue:\n",
        "    m=queue.pop(0)\n",
        "    print(m,end=\" \")\n",
        "    for neigh in graph[m]:\n",
        "      if neigh not in visited:\n",
        "        visited.append(neigh)\n",
        "        queue.append(neigh)\n",
        "print(\"Breadth-First Search\")\n",
        "bfs(visited,graph,'0')"
      ],
      "metadata": {
        "colab": {
          "base_uri": "https://localhost:8080/"
        },
        "id": "poFBfM0AbVDG",
        "outputId": "d278ce35-c2f4-4100-ff54-898458d2f9df"
      },
      "execution_count": 3,
      "outputs": [
        {
          "output_type": "stream",
          "name": "stdout",
          "text": [
            "Following is the Breadth-First Search\n",
            "0 1 3 2 5 4 "
          ]
        }
      ]
    },
    {
      "cell_type": "markdown",
      "source": [
        "# **Depth First Search**"
      ],
      "metadata": {
        "id": "5NkHOtIlbhz8"
      }
    },
    {
      "cell_type": "code",
      "source": [
        "def dfs(graph,st):\n",
        "    stack=[st]\n",
        "    vi=set()\n",
        "    while stack:\n",
        "        curr_ver = stack.pop()\n",
        "        if curr_ver not in vi:\n",
        "            print(curr_ver, end=' ')\n",
        "            vi.add(curr_ver)\n",
        "            stack+=(neigh for neigh in graph[curr_ver] if neigh not in visited)\n",
        "graph={\n",
        "    'A':['B','C'],\n",
        "    'B':['D','E','F'],\n",
        "    'C':['F'],\n",
        "    'D':[],\n",
        "    'E':['F'],\n",
        "    'F':[]\n",
        "}\n",
        "print(\"Depth First Search:\")\n",
        "dfs(graph,'A')"
      ],
      "metadata": {
        "colab": {
          "base_uri": "https://localhost:8080/"
        },
        "id": "hWK9Q4GdXTVk",
        "outputId": "d829367d-8c35-4651-8a2c-e5c2314088c2"
      },
      "execution_count": 5,
      "outputs": [
        {
          "output_type": "stream",
          "name": "stdout",
          "text": [
            "Depth First Search:\n",
            "A C F B E D "
          ]
        }
      ]
    },
    {
      "cell_type": "code",
      "source": [],
      "metadata": {
        "id": "p-RDd79Ia53A"
      },
      "execution_count": null,
      "outputs": []
    }
  ]
}