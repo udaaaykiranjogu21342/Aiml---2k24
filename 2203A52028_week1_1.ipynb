{
  "nbformat": 4,
  "nbformat_minor": 0,
  "metadata": {
    "colab": {
      "provenance": []
    },
    "kernelspec": {
      "name": "python3",
      "display_name": "Python 3"
    },
    "language_info": {
      "name": "python"
    }
  },
  "cells": [
    {
      "cell_type": "markdown",
      "source": [],
      "metadata": {
        "id": "wNZrDDtmsxDU"
      }
    },
    {
      "cell_type": "markdown",
      "source": [
        "# **lists arrays identify type**"
      ],
      "metadata": {
        "id": "yMjvmdbNs1N4"
      }
    },
    {
      "cell_type": "code",
      "source": [
        "import numpy as np\n",
        "list1 = [1,2,3]\n",
        "list2 = [4,5,6]\n",
        "array1 = np.array(list1)\n",
        "array2 = np.array(list2)\n",
        "array3 = np.array([[list1],[list2]])\n",
        "# print(list1)\n",
        "# print(array1)\n",
        "type(list1)\n",
        "type(array1)\n",
        "print(array3)\n",
        "type(array3)"
      ],
      "metadata": {
        "colab": {
          "base_uri": "https://localhost:8080/"
        },
        "id": "okllY9xmtCkD",
        "outputId": "05c9feac-0efd-47af-a8c3-21cd6043a0f0"
      },
      "execution_count": 1,
      "outputs": [
        {
          "output_type": "stream",
          "name": "stdout",
          "text": [
            "[[[1 2 3]]\n",
            "\n",
            " [[4 5 6]]]\n"
          ]
        },
        {
          "output_type": "execute_result",
          "data": {
            "text/plain": [
              "numpy.ndarray"
            ]
          },
          "metadata": {},
          "execution_count": 1
        }
      ]
    },
    {
      "cell_type": "markdown",
      "source": [
        "\n",
        "# **mathematical operations (multiplication,division,poweroff) addition of two arrays(array1+array2)**"
      ],
      "metadata": {
        "id": "XSHRaJR-tIB3"
      }
    },
    {
      "cell_type": "code",
      "source": [
        "array_multiplication = np.multiply(list1,list2)\n",
        "print(array_multiplication)\n",
        "array_division = np.divide(list1,list2)\n",
        "print(array_division)\n",
        "array_poweroff = np.power(array1,array2)\n",
        "print(array_poweroff)\n",
        "text_output = f\"Addition of wo arrays:{array1}+{array2} = {np.add(array1,array2)}\"\n",
        "print(text_output)"
      ],
      "metadata": {
        "colab": {
          "base_uri": "https://localhost:8080/"
        },
        "id": "lKg4UZF3tPKj",
        "outputId": "1d3c988c-8800-4952-da6f-253f54a4c8d2"
      },
      "execution_count": 2,
      "outputs": [
        {
          "output_type": "stream",
          "name": "stdout",
          "text": [
            "[ 4 10 18]\n",
            "[0.25 0.4  0.5 ]\n",
            "[  1  32 729]\n",
            "Addition of wo arrays:[1 2 3]+[4 5 6] = [5 7 9]\n"
          ]
        }
      ]
    },
    {
      "cell_type": "markdown",
      "source": [
        "# **# implement np.sin(),log(),log2(),np.exp()**"
      ],
      "metadata": {
        "id": "SiR-3TMytS3c"
      }
    },
    {
      "cell_type": "code",
      "source": [
        "sin_values = np.sin(list1)\n",
        "log2_values = np.log2(list1)\n",
        "log_values = np.log(list1)\n",
        "exp_values = np.exp(list1)\n",
        "print(sin_values)\n",
        "print(log2_values)\n",
        "print(log_values)\n",
        "print(exp_values)"
      ],
      "metadata": {
        "colab": {
          "base_uri": "https://localhost:8080/"
        },
        "id": "z2_T4k0ktba6",
        "outputId": "181f4555-53eb-4031-e5c1-4f66ff51795d"
      },
      "execution_count": 3,
      "outputs": [
        {
          "output_type": "stream",
          "name": "stdout",
          "text": [
            "[0.84147098 0.90929743 0.14112001]\n",
            "[0.        1.        1.5849625]\n",
            "[0.         0.69314718 1.09861229]\n",
            "[ 2.71828183  7.3890561  20.08553692]\n"
          ]
        }
      ]
    },
    {
      "cell_type": "code",
      "source": [],
      "metadata": {
        "id": "YhCYvsUbteqW"
      },
      "execution_count": null,
      "outputs": []
    }
  ]
}