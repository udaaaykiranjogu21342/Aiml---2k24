{
  "nbformat": 4,
  "nbformat_minor": 0,
  "metadata": {
    "colab": {
      "provenance": []
    },
    "kernelspec": {
      "name": "python3",
      "display_name": "Python 3"
    },
    "language_info": {
      "name": "python"
    }
  },
  "cells": [
    {
      "cell_type": "code",
      "execution_count": 6,
      "metadata": {
        "colab": {
          "base_uri": "https://localhost:8080/"
        },
        "id": "gBrNdXC8nD6Q",
        "outputId": "0e709286-967f-457b-a064-ba04c27e0ce4"
      },
      "outputs": [
        {
          "output_type": "stream",
          "name": "stdout",
          "text": [
            "       Table 1 Unnamed: 1  Unnamed: 2 Unnamed: 3\n",
            "0        Name        Age        Ht no      Place\n",
            "1  harikrishna         19  2203A52006   warangal\n",
            "2         uday         19  2203A52127     Ambala\n",
            "3       siddhu         19  2203A52227   Indurthi\n",
            "4       shashi         21  2203A52076     Parkal\n",
            "5        vinay         19  2203A52099   Warangal\n",
            "         Name   Age        Ht no     Place\n",
            "0  harikrishna    19  2203A52006  warangal\n",
            "1         uday    19  2203A52127    Ambala\n",
            "2       siddhu    19  2203A52227  Indurthi\n",
            "3       shashi    21  2203A52076    Parkal\n",
            "4        vinay    19  2203A52099  Warangal\n",
            "         Name   Age        Ht no      Place  Unnamed: 4  Unnamed: 5\n",
            "0  Harikrishna    19  2203A52126  Huzurabad         NaN         NaN\n",
            "1         Uday    19  2203A52127     Ambala         NaN         NaN\n",
            "2       siddhu    19  2203A52227   Indurthi         NaN         NaN\n",
            "3       shashi    21  2203A52076     Parkal         NaN         NaN\n",
            "4        vinay    19  2203A52099   Warangal         NaN         NaN\n",
            "\n",
            "Data from URL:\n",
            "            Name   Age        Ht no      Place  Unnamed: 4  Unnamed: 5\n",
            "0       RajaRohan    19  2203A52126  Huzurabad         NaN         NaN\n",
            "1  Vamshi krishna    19  2203A52127     Ambala         NaN         NaN\n",
            "2         Avinash    19  2203A52227   Indurthi         NaN         NaN\n",
            "3    Gopi krishna    21  2203A52076     Parkal         NaN         NaN\n",
            "4          Sravan    19  2203A52099   Warangal         NaN         NaN\n"
          ]
        }
      ],
      "source": [
        "import pandas as pd\n",
        "\n",
        "data_excel = pd.read_excel('/content/drive/MyDrive/excel_file.xlsx')\n",
        "\n",
        "data_csv = pd.read_csv('//content/drive/MyDrive/csv_file.csv')\n",
        "\n",
        "data_tsv = pd.read_csv('/content/drive/MyDrive/tab_data.tsv', sep='\\t')\n",
        "\n",
        "print(data_excel)\n",
        "print(data_csv)\n",
        "print(data_tsv)\n",
        "\n",
        "url = 'https://github.com/harikrishnaaa321/AIML_assignments.gits/csv_file.csv'\n",
        "df_url = pd.read_csv(url)\n",
        "print(\"\\nData from URL:\")\n",
        "print(df_url)"
      ]
    },
    {
      "cell_type": "code",
      "source": [
        "from google.colab import drive\n",
        "drive.mount('/content/drive')"
      ],
      "metadata": {
        "id": "NzDHVbCInNNx"
      },
      "execution_count": null,
      "outputs": []
    }
  ]
}